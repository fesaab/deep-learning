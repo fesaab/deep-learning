{
 "cells": [
  {
   "cell_type": "markdown",
   "metadata": {
    "deletable": true,
    "editable": true
   },
   "source": [
    "# Gradient Descent"
   ]
  },
  {
   "cell_type": "code",
   "execution_count": 6,
   "metadata": {
    "collapsed": false,
    "deletable": true,
    "editable": true
   },
   "outputs": [],
   "source": [
    "def gradient_descent_update(x, gradx, learning_rate):\n",
    "    \"\"\"\n",
    "    Performs a gradient descent update.\n",
    "    \"\"\"\n",
    "    # TODO: Implement gradient descent.\n",
    "    x = x - learning_rate * gradx\n",
    "    \n",
    "    # Return the new value for x\n",
    "    return x"
   ]
  },
  {
   "cell_type": "markdown",
   "metadata": {
    "deletable": true,
    "editable": true
   },
   "source": [
    "# Using the Gradient Descent function"
   ]
  },
  {
   "cell_type": "code",
   "execution_count": 10,
   "metadata": {
    "collapsed": false,
    "deletable": true,
    "editable": true
   },
   "outputs": [
    {
     "name": "stdout",
     "output_type": "stream",
     "text": [
      "EPOCH 0: Cost = 48846126.000, x = 13978.000\n",
      "EPOCH 1: Cost = 31261522.440, x = 11182.400\n",
      "EPOCH 2: Cost = 20007376.162, x = 8945.920\n",
      "EPOCH 3: Cost = 12804722.543, x = 7156.736\n",
      "EPOCH 4: Cost = 8195024.228, x = 5725.389\n",
      "EPOCH 5: Cost = 5244817.306, x = 4580.311\n",
      "EPOCH 6: Cost = 3356684.876, x = 3664.249\n",
      "EPOCH 7: Cost = 2148280.120, x = 2931.399\n",
      "EPOCH 8: Cost = 1374901.077, x = 2345.119\n",
      "EPOCH 9: Cost = 879938.489, x = 1876.095\n",
      "EPOCH 10: Cost = 563162.433, x = 1500.876\n",
      "EPOCH 11: Cost = 360425.757, x = 1200.701\n",
      "EPOCH 12: Cost = 230674.285, x = 960.561\n",
      "EPOCH 13: Cost = 147633.342, x = 768.449\n",
      "EPOCH 14: Cost = 94487.139, x = 614.759\n",
      "EPOCH 15: Cost = 60473.569, x = 491.807\n",
      "EPOCH 16: Cost = 38704.884, x = 393.446\n",
      "EPOCH 17: Cost = 24772.926, x = 314.757\n",
      "EPOCH 18: Cost = 15856.473, x = 251.805\n",
      "EPOCH 19: Cost = 10149.942, x = 201.444\n",
      "EPOCH 20: Cost = 6497.763, x = 161.155\n",
      "EPOCH 21: Cost = 4160.368, x = 128.924\n",
      "EPOCH 22: Cost = 2664.436, x = 103.139\n",
      "EPOCH 23: Cost = 1707.039, x = 82.512\n",
      "EPOCH 24: Cost = 1094.305, x = 66.009\n",
      "EPOCH 25: Cost = 702.155, x = 52.807\n",
      "EPOCH 26: Cost = 451.179, x = 42.246\n",
      "EPOCH 27: Cost = 290.555, x = 33.797\n",
      "EPOCH 28: Cost = 187.755, x = 27.037\n",
      "EPOCH 29: Cost = 121.963, x = 21.630\n",
      "EPOCH 30: Cost = 79.856, x = 17.304\n",
      "EPOCH 31: Cost = 52.908, x = 13.843\n",
      "EPOCH 32: Cost = 35.661, x = 11.075\n",
      "EPOCH 33: Cost = 24.623, x = 8.860\n",
      "EPOCH 34: Cost = 17.559, x = 7.088\n",
      "EPOCH 35: Cost = 13.038, x = 5.670\n",
      "EPOCH 36: Cost = 10.144, x = 4.536\n",
      "EPOCH 37: Cost = 8.292, x = 3.629\n",
      "EPOCH 38: Cost = 7.107, x = 2.903\n",
      "EPOCH 39: Cost = 6.348, x = 2.322\n",
      "EPOCH 40: Cost = 5.863, x = 1.858\n",
      "EPOCH 41: Cost = 5.552, x = 1.486\n",
      "EPOCH 42: Cost = 5.353, x = 1.189\n",
      "EPOCH 43: Cost = 5.226, x = 0.951\n",
      "EPOCH 44: Cost = 5.145, x = 0.761\n",
      "EPOCH 45: Cost = 5.093, x = 0.609\n",
      "EPOCH 46: Cost = 5.059, x = 0.487\n",
      "EPOCH 47: Cost = 5.038, x = 0.390\n",
      "EPOCH 48: Cost = 5.024, x = 0.312\n",
      "EPOCH 49: Cost = 5.016, x = 0.249\n",
      "EPOCH 50: Cost = 5.010, x = 0.200\n",
      "EPOCH 51: Cost = 5.006, x = 0.160\n",
      "EPOCH 52: Cost = 5.004, x = 0.128\n",
      "EPOCH 53: Cost = 5.003, x = 0.102\n",
      "EPOCH 54: Cost = 5.002, x = 0.082\n",
      "EPOCH 55: Cost = 5.001, x = 0.065\n",
      "EPOCH 56: Cost = 5.001, x = 0.052\n",
      "EPOCH 57: Cost = 5.000, x = 0.042\n",
      "EPOCH 58: Cost = 5.000, x = 0.033\n",
      "EPOCH 59: Cost = 5.000, x = 0.027\n",
      "EPOCH 60: Cost = 5.000, x = 0.021\n",
      "EPOCH 61: Cost = 5.000, x = 0.017\n",
      "EPOCH 62: Cost = 5.000, x = 0.014\n",
      "EPOCH 63: Cost = 5.000, x = 0.011\n",
      "EPOCH 64: Cost = 5.000, x = 0.009\n",
      "EPOCH 65: Cost = 5.000, x = 0.007\n",
      "EPOCH 66: Cost = 5.000, x = 0.006\n",
      "EPOCH 67: Cost = 5.000, x = 0.004\n",
      "EPOCH 68: Cost = 5.000, x = 0.004\n",
      "EPOCH 69: Cost = 5.000, x = 0.003\n",
      "EPOCH 70: Cost = 5.000, x = 0.002\n",
      "EPOCH 71: Cost = 5.000, x = 0.002\n",
      "EPOCH 72: Cost = 5.000, x = 0.001\n",
      "EPOCH 73: Cost = 5.000, x = 0.001\n",
      "EPOCH 74: Cost = 5.000, x = 0.001\n",
      "EPOCH 75: Cost = 5.000, x = 0.001\n",
      "EPOCH 76: Cost = 5.000, x = 0.001\n",
      "EPOCH 77: Cost = 5.000, x = 0.000\n",
      "EPOCH 78: Cost = 5.000, x = 0.000\n",
      "EPOCH 79: Cost = 5.000, x = 0.000\n",
      "EPOCH 80: Cost = 5.000, x = 0.000\n",
      "EPOCH 81: Cost = 5.000, x = 0.000\n",
      "EPOCH 82: Cost = 5.000, x = 0.000\n",
      "EPOCH 83: Cost = 5.000, x = 0.000\n",
      "EPOCH 84: Cost = 5.000, x = 0.000\n",
      "EPOCH 85: Cost = 5.000, x = 0.000\n",
      "EPOCH 86: Cost = 5.000, x = 0.000\n",
      "EPOCH 87: Cost = 5.000, x = 0.000\n",
      "EPOCH 88: Cost = 5.000, x = 0.000\n",
      "EPOCH 89: Cost = 5.000, x = 0.000\n",
      "EPOCH 90: Cost = 5.000, x = 0.000\n",
      "EPOCH 91: Cost = 5.000, x = 0.000\n",
      "EPOCH 92: Cost = 5.000, x = 0.000\n",
      "EPOCH 93: Cost = 5.000, x = 0.000\n",
      "EPOCH 94: Cost = 5.000, x = 0.000\n",
      "EPOCH 95: Cost = 5.000, x = 0.000\n",
      "EPOCH 96: Cost = 5.000, x = 0.000\n",
      "EPOCH 97: Cost = 5.000, x = 0.000\n",
      "EPOCH 98: Cost = 5.000, x = 0.000\n",
      "EPOCH 99: Cost = 5.000, x = 0.000\n",
      "EPOCH 100: Cost = 5.000, x = 0.000\n"
     ]
    }
   ],
   "source": [
    "\"\"\"\n",
    "Given the starting point of any `x` gradient descent\n",
    "should be able to find the minimum value of x for the\n",
    "cost function `f` defined below.\n",
    "\"\"\"\n",
    "import random\n",
    "\n",
    "\n",
    "def f(x):\n",
    "    \"\"\"\n",
    "    Quadratic function.\n",
    "\n",
    "    It's easy to see the minimum value of the function\n",
    "    is 5 when is x=0.\n",
    "    \"\"\"\n",
    "    return x**2 + 5\n",
    "\n",
    "\n",
    "def df(x):\n",
    "    \"\"\"\n",
    "    Derivative of `f` with respect to `x`.\n",
    "    \"\"\"\n",
    "    return 2*x\n",
    "\n",
    "\n",
    "# Random number better 0 and 10,000. Feel free to set x whatever you like.\n",
    "x = random.randint(0, 10000)\n",
    "# TODO: Set the learning rate\n",
    "learning_rate = 0.1\n",
    "epochs = 100\n",
    "\n",
    "for i in range(epochs+1):\n",
    "    cost = f(x)\n",
    "    gradx = df(x)\n",
    "    print(\"EPOCH {}: Cost = {:.3f}, x = {:.3f}\".format(i, cost, gradx))\n",
    "    x = gradient_descent_update(x, gradx, learning_rate)\n"
   ]
  },
  {
   "cell_type": "code",
   "execution_count": null,
   "metadata": {
    "collapsed": true,
    "deletable": true,
    "editable": true
   },
   "outputs": [],
   "source": []
  }
 ],
 "metadata": {
  "kernelspec": {
   "display_name": "Python 3",
   "language": "python",
   "name": "python3"
  },
  "language_info": {
   "codemirror_mode": {
    "name": "ipython",
    "version": 3
   },
   "file_extension": ".py",
   "mimetype": "text/x-python",
   "name": "python",
   "nbconvert_exporter": "python",
   "pygments_lexer": "ipython3",
   "version": "3.5.3"
  }
 },
 "nbformat": 4,
 "nbformat_minor": 2
}
