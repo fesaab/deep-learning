{
 "cells": [
  {
   "cell_type": "markdown",
   "metadata": {},
   "source": [
    "# Bag of Words Quiz"
   ]
  },
  {
   "cell_type": "code",
   "execution_count": 6,
   "metadata": {},
   "outputs": [
    {
     "name": "stdout",
     "output_type": "stream",
     "text": [
      "Counter({'the': 2, 'over': 1, 'jumps': 1, 'quick': 1, 'lazy': 1, 'brown': 1, 'fox': 1, 'dog': 1})\n"
     ]
    }
   ],
   "source": [
    "from collections import Counter\n",
    "\n",
    "#def bag_of_words(text):\n",
    "    #bag = Counter()\n",
    "    #for i, t in enumerate(text.split(\" \")):\n",
    "    #    bag[t] += 1\n",
    "    #return bag\n",
    "    \n",
    "def bag_of_words(text):\n",
    "    return Counter(text.split())\n",
    "\n",
    "test_text = 'the quick brown fox jumps over the lazy dog'\n",
    "\n",
    "print(bag_of_words(test_text))"
   ]
  },
  {
   "cell_type": "code",
   "execution_count": null,
   "metadata": {
    "collapsed": true
   },
   "outputs": [],
   "source": []
  }
 ],
 "metadata": {
  "kernelspec": {
   "display_name": "Python 3",
   "language": "python",
   "name": "python3"
  },
  "language_info": {
   "codemirror_mode": {
    "name": "ipython",
    "version": 3
   },
   "file_extension": ".py",
   "mimetype": "text/x-python",
   "name": "python",
   "nbconvert_exporter": "python",
   "pygments_lexer": "ipython3",
   "version": "3.5.3"
  }
 },
 "nbformat": 4,
 "nbformat_minor": 2
}
